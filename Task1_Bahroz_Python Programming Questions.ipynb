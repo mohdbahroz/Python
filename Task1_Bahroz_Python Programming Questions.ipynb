{
 "cells": [
  {
   "cell_type": "markdown",
   "id": "26e4fe0c-10c1-4cb4-82e1-0504bb08a5bf",
   "metadata": {},
   "source": [
    "\n",
    "### 1. Chandra went to Zplanet, a gaming space, with his friends and played a game called “Guess the Word”.\n",
    "\n",
    "### Rules of games are –\n",
    "\n",
    "Computer displays some strings on the screen and the player should pick one string / word if this word matches with the random word that the computer picks then the player is declared as Winner.\n",
    "Chandra friends played the game and no one won the game. This is Chandra’s turn to play and he decided to must win the game.\n",
    "\n",
    "What he observed from his friend’s game is that the computer is picking up the string whose length is odd and also that should be maximum. Due to system failure computers sometimes cannot generate odd length words. In such cases you will lose the game anyways and it displays “better luck next time”. He needs your help. Check below cases for better understand\n",
    "\n",
    "### Sample input :\n",
    "5 → number of strings\n",
    "Hello Good morning Welcome you\n",
    "\n",
    "\n",
    "### Sample output :\n",
    "morning\n",
    "\n",
    "### Explanation:\n",
    "\n",
    "Hello → 5\n",
    "Good → 4\n",
    "Morning → 7\n",
    "Welcome → 7\n",
    "You → 3\n",
    "First word that is picked by computer is morning\n",
    "\n",
    "### Sample input 2 :\n",
    "3\n",
    "Go to hell\n",
    "\n",
    "### Sample output 2:\n",
    "Better luck next time\n",
    "\n",
    "### Explanation:\n",
    "Here no word with odd length so computer confuses and gives better luck next time"
   ]
  },
  {
   "cell_type": "code",
   "execution_count": 1,
   "id": "7854dfdc",
   "metadata": {},
   "outputs": [
    {
     "name": "stdin",
     "output_type": "stream",
     "text": [
      " go to hell\n"
     ]
    },
    {
     "name": "stdout",
     "output_type": "stream",
     "text": [
      "Better luck next time\n"
     ]
    }
   ],
   "source": [
    "def guess_the_word():\n",
    "    # Read the input\n",
    "   \n",
    "    words = input().split()\n",
    "\n",
    "    # Initialize variables to track the longest odd length word\n",
    "    longest_odd_word = \"\"\n",
    "    \n",
    "    # Iterate through each word to find the longest odd length word\n",
    "    for word in words:\n",
    "        if len(word) % 2 != 0:\n",
    "            if len(word) > len(longest_odd_word):\n",
    "                longest_odd_word = word\n",
    "\n",
    "    # Output the result\n",
    "    if longest_odd_word:\n",
    "        print(longest_odd_word)\n",
    "    else:\n",
    "        print(\"Better luck next time\")\n",
    "\n",
    "# Test the function with sample inputs\n",
    "guess_the_word()\n"
   ]
  },
  {
   "cell_type": "markdown",
   "id": "b22cd3f5",
   "metadata": {},
   "source": [
    "### 2. Given a sting, return the character that appears the minimum number of times in the string. The string will contain only ascii characters, from the ranges (“a”-”z”,”A”-”Z”,0-9), and case matters . If there is a tie in the minimum number of times a character appears in the string return the character that appears first in the string.\n",
    "\n",
    "### Input Format:\n",
    "Single line with no space denoting the input string.\n",
    "\n",
    "### OutputFormat:\n",
    "Single character denoting the least frequent character.\n",
    "\n",
    "### Constraints:\n",
    "Length of string <=10^6\n",
    "\n",
    "### Sample Input:\n",
    "cdadcda\n",
    "\n",
    "### Sample Output:\n",
    "c\n",
    "\n",
    "### Explanation:\n",
    "C and A both are with minimum frequency. So c is the answer because it comes first with less index."
   ]
  },
  {
   "cell_type": "code",
   "execution_count": 2,
   "id": "ac73ce15",
   "metadata": {},
   "outputs": [
    {
     "name": "stdin",
     "output_type": "stream",
     "text": [
      " cdadcda\n"
     ]
    },
    {
     "name": "stdout",
     "output_type": "stream",
     "text": [
      "c\n"
     ]
    }
   ],
   "source": [
    "def least_frequent_char(s):\n",
    "    # Step 1: Count the frequency of each character\n",
    "    frequency = {}\n",
    "    for char in s:\n",
    "        if char in frequency:\n",
    "            frequency[char] += 1\n",
    "        else:\n",
    "            frequency[char] = 1\n",
    "    \n",
    "    # Step 2: Find the minimum frequency and the corresponding character\n",
    "    min_freq = float('inf')\n",
    "    min_char = ''\n",
    "    for char in s:\n",
    "        if frequency[char] < min_freq:\n",
    "            min_freq = frequency[char]\n",
    "            min_char = char\n",
    "    \n",
    "    return min_char\n",
    "\n",
    "# Test the function with sample input\n",
    "input_string = input().strip()\n",
    "print(least_frequent_char(input_string))\n"
   ]
  },
  {
   "cell_type": "markdown",
   "id": "a3badcca",
   "metadata": {},
   "source": [
    "### 3. There are some groups of devils and they splitted into people to kill them. Devils make People to them left as their group and at last the group with maximum length will be killed. Two types of devils are there namely “@” and “$”\n",
    "People is represented as a string “P”\n",
    "\n",
    "### Input Format:\n",
    "First line with the string for input\n",
    "\n",
    "### Output Format:\n",
    "Number of groups that can be formed.\n",
    "\n",
    "### Constraints:\n",
    "2<=Length of string<=10^9\n",
    "\n",
    "### Input string\n",
    "PPPPPP@PPP@PP$PP\n",
    "\n",
    "### Output\n",
    "7\n",
    "\n",
    "### Explanation\n",
    "4 groups can be formed\n",
    "\n",
    "PPPPPP@\n",
    "PPP@\n",
    "PP$\n",
    "PP\n",
    "Most people in the group lie in group 1 with 7 members."
   ]
  },
  {
   "cell_type": "code",
   "execution_count": 3,
   "id": "49a89ad7",
   "metadata": {},
   "outputs": [
    {
     "name": "stdin",
     "output_type": "stream",
     "text": [
      " PPPPPP@PPP@PP$PP\n"
     ]
    },
    {
     "name": "stdout",
     "output_type": "stream",
     "text": [
      "4\n"
     ]
    }
   ],
   "source": [
    "def count_groups(input_string):\n",
    "    # Split the input string by devils '@' and '$'\n",
    "    groups = input_string.split('@')\n",
    "    subgroups = []\n",
    "    \n",
    "    # Further split by '$' to account for both delimiters\n",
    "    for group in groups:\n",
    "        subgroups.extend(group.split('$'))\n",
    "    \n",
    "    # Filter out empty segments and count non-empty segments\n",
    "    valid_groups = [group for group in subgroups if group]\n",
    "    \n",
    "    return len(valid_groups)\n",
    "\n",
    "# Test the function with sample input\n",
    "input_string = input().strip()\n",
    "print(count_groups(input_string))\n"
   ]
  },
  {
   "cell_type": "markdown",
   "id": "51a27708",
   "metadata": {},
   "source": [
    "### 4. Rahul copies in the exam from his adjacent students. But he doesn’t want to be caught, so he changes words keeping the letter constant. That means he interchanges the positions of letters in words. You are the examiner and you have to find if he has copied a certain word from the one adjacent student who is giving the same exam, and give Rahul the markings he deserves.\n",
    "\n",
    "Note that: Uppercase and lowercase are the  same.\n",
    "\n",
    "### Input Format:\n",
    "\n",
    "First line with the adjacent student’s word\n",
    "Second line with Rahul’s word\n",
    "\n",
    "### Output Format:\n",
    "\n",
    "0 if not copied\n",
    "1 if copied\n",
    "\n",
    "### Constraints:\n",
    "\n",
    "1<=Length of string<=10^6\n",
    "\n",
    "### Sample Input:\n",
    "\n",
    "CAR\n",
    "\n",
    "Acr\n",
    "\n",
    "### Sample Output:\n",
    "\n",
    "1"
   ]
  },
  {
   "cell_type": "code",
   "execution_count": 48,
   "id": "a7687740",
   "metadata": {},
   "outputs": [
    {
     "name": "stdin",
     "output_type": "stream",
     "text": [
      " BUS\n",
      " usb\n"
     ]
    },
    {
     "name": "stdout",
     "output_type": "stream",
     "text": [
      "1\n"
     ]
    }
   ],
   "source": [
    "def is_copied(word1, word2):\n",
    "    # Normalize both words to lowercase\n",
    "    word1 = word1.lower()\n",
    "    word2 = word2.lower()\n",
    "    \n",
    "    # If lengths are different, they can't be anagrams\n",
    "    if len(word1) != len(word2):\n",
    "        return 0\n",
    "    \n",
    "    # Count character frequencies for both words\n",
    "    from collections import Counter\n",
    "    count1 = Counter(word1)\n",
    "    count2 = Counter(word2)\n",
    "    \n",
    "    # Compare the frequency counts\n",
    "    if count1 == count2:\n",
    "        return 1\n",
    "    else:\n",
    "        return 0\n",
    "\n",
    "# Test the function with sample input\n",
    "adjacent_student_word = input().strip()\n",
    "rahul_word = input().strip()\n",
    "print(is_copied(adjacent_student_word, rahul_word))\n"
   ]
  },
  {
   "cell_type": "markdown",
   "id": "9dffd45b",
   "metadata": {},
   "source": [
    "### 5. Here is a weird problem in Susan’s terminal. He can not write more than two words each line, if she writes more than two, it takes only 2 words and the rest are not taken. So she needs to use enter and put the rest in a new line. For a given paragraph, how many lines are needed to be written in Susan’s terminal?\n",
    "\n",
    "### Input Format:\n",
    "\n",
    "A string as the text to input in the terminal\n",
    "\n",
    "### Output Format:\n",
    "\n",
    "Number of lines written.\n",
    "\n",
    "### Constraints:\n",
    "\n",
    "Number of words <=10^7\n",
    "\n",
    "### Sample Input:\n",
    "\n",
    "How long do you have to sit dear ?\n",
    "\n",
    "### Sample Output:\n",
    "\n",
    "4\n",
    "\n",
    "### Explanation:\n",
    "\n",
    "The writing will be:\n",
    "\n",
    "How long\n",
    "\n",
    "Do you\n",
    "\n",
    "Have to\n",
    "\n",
    "Sit dear ?"
   ]
  },
  {
   "cell_type": "code",
   "execution_count": 30,
   "id": "db0b2dc1",
   "metadata": {},
   "outputs": [
    {
     "name": "stdin",
     "output_type": "stream",
     "text": [
      " Here is a weird problem in Susan’s terminal. He can not write more than two words each line, if she writes more than two, it takes only 2 words and the rest are not taken. So she needs to use enter and put the rest in a new line.\n"
     ]
    },
    {
     "name": "stdout",
     "output_type": "stream",
     "text": [
      "25\n"
     ]
    }
   ],
   "source": [
    "import math\n",
    "\n",
    "def count_lines(paragraph):\n",
    "    # Split the input string into words\n",
    "    words = paragraph.split()\n",
    "    \n",
    "    # Calculate the number of lines needed\n",
    "    num_words = len(words)\n",
    "    num_lines = math.ceil(num_words / 2)\n",
    "    \n",
    "    return num_lines\n",
    "\n",
    "# Test the function with sample input\n",
    "paragraph = input().strip()\n",
    "print(count_lines(paragraph))\n"
   ]
  },
  {
   "cell_type": "markdown",
   "id": "3603df6a",
   "metadata": {},
   "source": [
    "### 6. The principal has a problem with repetitions. Everytime someone sends the same email twice he becomes angry and starts yelling. His personal assistant filters the mails so that all the unique mails are sent only once, and if there is someone sending the same mail again and again, he deletes them. Write a program which will see the list of roll numbers of the student and find how many emails are to be deleted.\n",
    "\n",
    "### Sample Input:\n",
    "6\n",
    "1\n",
    "3\n",
    "3\n",
    "4\n",
    "3\n",
    "3\n",
    "\n",
    "### Sample Output:\n",
    "3"
   ]
  },
  {
   "cell_type": "code",
   "execution_count": 4,
   "id": "60a7962d",
   "metadata": {},
   "outputs": [
    {
     "name": "stdin",
     "output_type": "stream",
     "text": [
      " 6 1 3 3 4 3 3\n"
     ]
    },
    {
     "name": "stdout",
     "output_type": "stream",
     "text": [
      "3\n"
     ]
    }
   ],
   "source": [
    "def count_deletions(roll_numbers):\n",
    "    # Use a dictionary to count frequencies of roll numbers\n",
    "    frequency = {}\n",
    "    \n",
    "    for number in roll_numbers:\n",
    "        if number in frequency:\n",
    "            frequency[number] += 1\n",
    "        else:\n",
    "            frequency[number] = 1\n",
    "    \n",
    "    # Calculate the number of deletions needed\n",
    "    deletions = 0\n",
    "    for count in frequency.values():\n",
    "        if count > 1:\n",
    "            deletions += (count - 1)\n",
    "    \n",
    "    return deletions\n",
    "\n",
    "# Test the function with sample input\n",
    "input_data = input().strip().split()\n",
    "n = int(input_data[0])\n",
    "roll_numbers = list(map(int, input_data[1:]))\n",
    "print(count_deletions(roll_numbers))\n"
   ]
  },
  {
   "cell_type": "code",
   "execution_count": null,
   "id": "c4ab5d10-f566-40b6-bac7-c9b6492e1fd3",
   "metadata": {},
   "outputs": [],
   "source": []
  }
 ],
 "metadata": {
  "kernelspec": {
   "display_name": "Python 3 (ipykernel)",
   "language": "python",
   "name": "python3"
  },
  "language_info": {
   "codemirror_mode": {
    "name": "ipython",
    "version": 3
   },
   "file_extension": ".py",
   "mimetype": "text/x-python",
   "name": "python",
   "nbconvert_exporter": "python",
   "pygments_lexer": "ipython3",
   "version": "3.11.7"
  }
 },
 "nbformat": 4,
 "nbformat_minor": 5
}
