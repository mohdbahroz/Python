{
 "cells": [
  {
   "cell_type": "markdown",
   "id": "1454e1d8-df26-486a-8212-d81216db0590",
   "metadata": {},
   "source": [
    "## Business Problem: \r",
    "### This is a peer comparison project. Suppose that you are working for Samsung in customer experience management team. The idea is to regularly monitor the customer satisfaction levels and peer company moves. The competitor company is Apple."
   ]
  },
  {
   "cell_type": "markdown",
   "id": "86ec8cef-75e4-4881-9bdb-04de61f14dbd",
   "metadata": {},
   "source": [
    "### Q. The objective is to test below hypothesis. You are required to prove/disprove them using hypothesis testing with the help of data set provided. "
   ]
  },
  {
   "cell_type": "code",
   "execution_count": 2,
   "id": "7f5784cb-01bd-4cca-ae3d-1e4c1efe097c",
   "metadata": {},
   "outputs": [
    {
     "data": {
      "text/html": [
       "<div>\n",
       "<style scoped>\n",
       "    .dataframe tbody tr th:only-of-type {\n",
       "        vertical-align: middle;\n",
       "    }\n",
       "\n",
       "    .dataframe tbody tr th {\n",
       "        vertical-align: top;\n",
       "    }\n",
       "\n",
       "    .dataframe thead th {\n",
       "        text-align: right;\n",
       "    }\n",
       "</style>\n",
       "<table border=\"1\" class=\"dataframe\">\n",
       "  <thead>\n",
       "    <tr style=\"text-align: right;\">\n",
       "      <th></th>\n",
       "      <th>S_No</th>\n",
       "      <th>Cust_id</th>\n",
       "      <th>Mobile Brand Purchased</th>\n",
       "      <th>Location</th>\n",
       "      <th>Satisfaction Score</th>\n",
       "      <th>Mobile Cost</th>\n",
       "    </tr>\n",
       "  </thead>\n",
       "  <tbody>\n",
       "    <tr>\n",
       "      <th>0</th>\n",
       "      <td>1</td>\n",
       "      <td>S336499</td>\n",
       "      <td>Samsung</td>\n",
       "      <td>BLR</td>\n",
       "      <td>94</td>\n",
       "      <td>75000</td>\n",
       "    </tr>\n",
       "    <tr>\n",
       "      <th>1</th>\n",
       "      <td>2</td>\n",
       "      <td>S73004</td>\n",
       "      <td>Samsung</td>\n",
       "      <td>GGN</td>\n",
       "      <td>99</td>\n",
       "      <td>62000</td>\n",
       "    </tr>\n",
       "    <tr>\n",
       "      <th>2</th>\n",
       "      <td>3</td>\n",
       "      <td>S79537</td>\n",
       "      <td>Samsung</td>\n",
       "      <td>GGN</td>\n",
       "      <td>74</td>\n",
       "      <td>52000</td>\n",
       "    </tr>\n",
       "    <tr>\n",
       "      <th>3</th>\n",
       "      <td>4</td>\n",
       "      <td>S769168</td>\n",
       "      <td>Samsung</td>\n",
       "      <td>GGN</td>\n",
       "      <td>74</td>\n",
       "      <td>63000</td>\n",
       "    </tr>\n",
       "    <tr>\n",
       "      <th>4</th>\n",
       "      <td>5</td>\n",
       "      <td>S609791</td>\n",
       "      <td>Samsung</td>\n",
       "      <td>CHE</td>\n",
       "      <td>83</td>\n",
       "      <td>66000</td>\n",
       "    </tr>\n",
       "    <tr>\n",
       "      <th>...</th>\n",
       "      <td>...</td>\n",
       "      <td>...</td>\n",
       "      <td>...</td>\n",
       "      <td>...</td>\n",
       "      <td>...</td>\n",
       "      <td>...</td>\n",
       "    </tr>\n",
       "    <tr>\n",
       "      <th>195</th>\n",
       "      <td>196</td>\n",
       "      <td>A285629</td>\n",
       "      <td>Apple</td>\n",
       "      <td>BLR</td>\n",
       "      <td>87</td>\n",
       "      <td>52000</td>\n",
       "    </tr>\n",
       "    <tr>\n",
       "      <th>196</th>\n",
       "      <td>197</td>\n",
       "      <td>A324151</td>\n",
       "      <td>Apple</td>\n",
       "      <td>GGN</td>\n",
       "      <td>82</td>\n",
       "      <td>90000</td>\n",
       "    </tr>\n",
       "    <tr>\n",
       "      <th>197</th>\n",
       "      <td>198</td>\n",
       "      <td>A292091</td>\n",
       "      <td>Apple</td>\n",
       "      <td>CHE</td>\n",
       "      <td>88</td>\n",
       "      <td>64000</td>\n",
       "    </tr>\n",
       "    <tr>\n",
       "      <th>198</th>\n",
       "      <td>199</td>\n",
       "      <td>A936566</td>\n",
       "      <td>Apple</td>\n",
       "      <td>CHE</td>\n",
       "      <td>91</td>\n",
       "      <td>72000</td>\n",
       "    </tr>\n",
       "    <tr>\n",
       "      <th>199</th>\n",
       "      <td>200</td>\n",
       "      <td>A489031</td>\n",
       "      <td>Apple</td>\n",
       "      <td>CHE</td>\n",
       "      <td>95</td>\n",
       "      <td>62000</td>\n",
       "    </tr>\n",
       "  </tbody>\n",
       "</table>\n",
       "<p>200 rows × 6 columns</p>\n",
       "</div>"
      ],
      "text/plain": [
       "     S_No  Cust_id Mobile Brand Purchased Location  Satisfaction Score  \\\n",
       "0       1  S336499                Samsung      BLR                  94   \n",
       "1       2   S73004                Samsung      GGN                  99   \n",
       "2       3   S79537                Samsung      GGN                  74   \n",
       "3       4  S769168                Samsung      GGN                  74   \n",
       "4       5  S609791                Samsung      CHE                  83   \n",
       "..    ...      ...                    ...      ...                 ...   \n",
       "195   196  A285629                  Apple      BLR                  87   \n",
       "196   197  A324151                  Apple      GGN                  82   \n",
       "197   198  A292091                  Apple      CHE                  88   \n",
       "198   199  A936566                  Apple      CHE                  91   \n",
       "199   200  A489031                  Apple      CHE                  95   \n",
       "\n",
       "     Mobile Cost  \n",
       "0          75000  \n",
       "1          62000  \n",
       "2          52000  \n",
       "3          63000  \n",
       "4          66000  \n",
       "..           ...  \n",
       "195        52000  \n",
       "196        90000  \n",
       "197        64000  \n",
       "198        72000  \n",
       "199        62000  \n",
       "\n",
       "[200 rows x 6 columns]"
      ]
     },
     "execution_count": 2,
     "metadata": {},
     "output_type": "execute_result"
    }
   ],
   "source": [
    "import pandas as pd\n",
    "import numpy as np\n",
    "stats1=pd.read_csv(r\"C:\\Users\\Bahroz Kalam\\Desktop\\Python\\PYTHON CASE STUDY\\Basic Statistics-Questions.csv\")\n",
    "stats1"
   ]
  },
  {
   "cell_type": "markdown",
   "id": "ff732556-c993-473d-9f27-db30f495717b",
   "metadata": {},
   "source": [
    "##### 1. The Samsung Average customer satisfaction score is minimum 75%."
   ]
  },
  {
   "cell_type": "code",
   "execution_count": 3,
   "id": "5d481286-8c86-466a-8d31-44ce1a938c18",
   "metadata": {},
   "outputs": [
    {
     "name": "stdout",
     "output_type": "stream",
     "text": [
      "Samsung Mean Satisfaction Score: 84.9\n",
      "T-statistic: 8.358287450922418\n",
      "P-value: 4.0739777034636007e-13\n",
      "We reject the null hypothesis. The average satisfaction score is significantly different from 75.\n"
     ]
    }
   ],
   "source": [
    "import pandas as pd\n",
    "from scipy import stats\n",
    "\n",
    "# Extract Samsung Data\n",
    "samsung_data = stats1[stats1['Mobile Brand Purchased'] == 'Samsung']\n",
    "\n",
    "# Calculate the mean satisfaction score for Samsung\n",
    "samsung_mean = samsung_data['Satisfaction Score'].mean()\n",
    "\n",
    "# Perform a one-sample t-test\n",
    "t_statistic, p_value = stats.ttest_1samp(samsung_data['Satisfaction Score'], 75)\n",
    "\n",
    "# Output the results\n",
    "print(\"Samsung Mean Satisfaction Score:\", samsung_mean)\n",
    "print(\"T-statistic:\", t_statistic)\n",
    "print(\"P-value:\", p_value)\n",
    "\n",
    "# Check if we can reject the null hypothesis\n",
    "if p_value < 0.05:\n",
    "    print(\"We reject the null hypothesis. The average satisfaction score is significantly different from 75.\")\n",
    "else:\n",
    "    print(\"We fail to reject the null hypothesis. There is no significant difference from 75.\")\n"
   ]
  },
  {
   "cell_type": "markdown",
   "id": "c84b1726-1883-4dea-b3f3-ed8bf3e6190a",
   "metadata": {},
   "source": [
    "##### 2. The overall average satisfaction score of Samsung is same as Apple. There is no significant difference in the satisfaction scores  - 10 Marks"
   ]
  },
  {
   "cell_type": "code",
   "execution_count": 5,
   "id": "7381305c-242f-4745-8bd2-7a82336f9e82",
   "metadata": {},
   "outputs": [],
   "source": [
    "samsung_data = stats1[stats1['Mobile Brand Purchased'] == 'Samsung']\n",
    "apple_data = stats1[stats1['Mobile Brand Purchased'] == 'Apple']\n"
   ]
  },
  {
   "cell_type": "code",
   "execution_count": 6,
   "id": "88e02f39-b906-46bc-abbc-6347ea6bcd1a",
   "metadata": {},
   "outputs": [
    {
     "name": "stdout",
     "output_type": "stream",
     "text": [
      "T-statistic: -1.9064295935043472\n",
      "P-value: 0.058042614444118075\n",
      "We fail to reject the null hypothesis. There is no significant difference in the satisfaction scores between Samsung and Apple.\n"
     ]
    }
   ],
   "source": [
    "from scipy import stats\n",
    "\n",
    "# Perform an independent t-test\n",
    "t_statistic, p_value = stats.ttest_ind(samsung_data['Satisfaction Score'], apple_data['Satisfaction Score'])\n",
    "\n",
    "# Output the results\n",
    "print(\"T-statistic:\", t_statistic)\n",
    "print(\"P-value:\", p_value)\n",
    "\n",
    "# Check if we can reject the null hypothesis\n",
    "if p_value < 0.05:\n",
    "    print(\"We reject the null hypothesis. There is a significant difference in the satisfaction scores between Samsung and Apple.\")\n",
    "else:\n",
    "    print(\"We fail to reject the null hypothesis. There is no significant difference in the satisfaction scores between Samsung and Apple.\")\n"
   ]
  },
  {
   "cell_type": "markdown",
   "id": "cb0b074a-a0de-448f-822b-e859252a13fa",
   "metadata": {},
   "source": [
    "##### 3. There is strong relationship between Location & Mobile Brand Purchase (i.e Specific brand purchasing more in certain locations)"
   ]
  },
  {
   "cell_type": "code",
   "execution_count": 18,
   "id": "2aea1752-da2a-4063-8961-f00710439cdf",
   "metadata": {},
   "outputs": [
    {
     "name": "stdout",
     "output_type": "stream",
     "text": [
      "Contingency Table:\n",
      "Mobile Brand Purchased  Apple  Samsung\n",
      "Location                              \n",
      "BLR                        24       22\n",
      "CHE                        34       34\n",
      "GGN                        32       36\n",
      "HYD                        10        8\n",
      "\n",
      "Chi-Square Test Results:\n",
      "Chi-Square Statistic: 0.5444728616084115\n",
      "P-Value: 0.9090177469316534\n",
      "Degrees of Freedom: 3\n",
      "Expected Frequencies Table:\n",
      "[[23. 23.]\n",
      " [34. 34.]\n",
      " [34. 34.]\n",
      " [ 9.  9.]]\n",
      "\n",
      "Fail to reject the null hypothesis: There is no significant relationship between Location and Mobile Brand Purchased.\n"
     ]
    }
   ],
   "source": [
    "# Import necessary libraries\n",
    "import pandas as pd\n",
    "from scipy.stats import chi2_contingency\n",
    "import numpy as np\n",
    "\n",
    "# Create a contingency table\n",
    "contingency_table = pd.crosstab(df['Location'], df['Mobile Brand Purchased'])\n",
    "print(\"Contingency Table:\")\n",
    "print(contingency_table)\n",
    "\n",
    "# Perform chi-square test of independence\n",
    "chi2_stat, p_value, dof, expected = chi2_contingency(contingency_table)\n",
    "\n",
    "print(\"\\nChi-Square Test Results:\")\n",
    "print(f\"Chi-Square Statistic: {chi2_stat}\")\n",
    "print(f\"P-Value: {p_value}\")\n",
    "print(f\"Degrees of Freedom: {dof}\")\n",
    "print(f\"Expected Frequencies Table:\\n{expected}\")\n",
    "\n",
    "# Interpret the results\n",
    "alpha = 0.05\n",
    "if p_value < alpha:\n",
    "    print(f\"\\nReject the null hypothesis: There is a significant relationship between Location and Mobile Brand Purchased.\")\n",
    "else:\n",
    "    print(f\"\\nFail to reject the null hypothesis: There is no significant relationship between Location and Mobile Brand Purchased.\")\n"
   ]
  },
  {
   "cell_type": "markdown",
   "id": "41ed9e20-90b0-4a8d-ae1a-e17e047060a1",
   "metadata": {},
   "source": [
    "##### 4. There is strong relationship between cost of the phone and Satisfaction score"
   ]
  },
  {
   "cell_type": "code",
   "execution_count": 19,
   "id": "e04215a9-f299-4ff8-8fd4-a0cc17748f00",
   "metadata": {},
   "outputs": [
    {
     "name": "stdout",
     "output_type": "stream",
     "text": [
      "Pearson's Correlation Coefficient: -0.0412152060798132\n",
      "P-Value: 0.562276217836564\n",
      "\n",
      "Fail to reject the null hypothesis: There is no significant linear relationship between Mobile Cost and Satisfaction Score.\n"
     ]
    }
   ],
   "source": [
    "# Import necessary libraries\n",
    "import pandas as pd\n",
    "from scipy.stats import pearsonr\n",
    "\n",
    "# Compute Pearson's correlation coefficient\n",
    "corr_coefficient, p_value = pearsonr(df['Mobile Cost'], df['Satisfaction Score'])\n",
    "\n",
    "print(f\"Pearson's Correlation Coefficient: {corr_coefficient}\")\n",
    "print(f\"P-Value: {p_value}\")\n",
    "\n",
    "# Interpret the results\n",
    "alpha = 0.05\n",
    "if p_value < alpha:\n",
    "    print(f\"\\nReject the null hypothesis: There is a significant linear relationship between Mobile Cost and Satisfaction Score.\")\n",
    "else:\n",
    "    print(f\"\\nFail to reject the null hypothesis: There is no significant linear relationship between Mobile Cost and Satisfaction Score.\")\n"
   ]
  },
  {
   "cell_type": "markdown",
   "id": "0614d543-46ca-488e-bc4e-263c5204280d",
   "metadata": {},
   "source": [
    "##### 5. Certain locations having high satisfaction score"
   ]
  },
  {
   "cell_type": "code",
   "execution_count": 20,
   "id": "5c8d947e-9f81-4c7f-a668-86ab3fd73019",
   "metadata": {},
   "outputs": [
    {
     "name": "stdout",
     "output_type": "stream",
     "text": [
      "ANOVA F-Statistic: 1.8078235781915044\n",
      "P-Value: 0.14704232267382497\n",
      "\n",
      "Fail to reject the null hypothesis: There are no significant differences in satisfaction scores between locations.\n"
     ]
    }
   ],
   "source": [
    "# Import necessary libraries\n",
    "import pandas as pd\n",
    "from scipy.stats import f_oneway\n",
    "\n",
    "# Group data by location and calculate satisfaction score for each location\n",
    "grouped = df.groupby('Location')['Satisfaction Score'].apply(list)\n",
    "\n",
    "# Perform ANOVA\n",
    "f_statistic, p_value = f_oneway(*grouped)\n",
    "\n",
    "print(f\"ANOVA F-Statistic: {f_statistic}\")\n",
    "print(f\"P-Value: {p_value}\")\n",
    "\n",
    "# Interpret the results\n",
    "alpha = 0.05\n",
    "if p_value < alpha:\n",
    "    print(f\"\\nReject the null hypothesis: There are significant differences in satisfaction scores between locations.\")\n",
    "else:\n",
    "    print(f\"\\nFail to reject the null hypothesis: There are no significant differences in satisfaction scores between locations.\")\n"
   ]
  },
  {
   "cell_type": "markdown",
   "id": "272854a8-432d-460c-985b-f2e06bc55a2d",
   "metadata": {},
   "source": [
    "### Q. Write User Defined Function which can take input as any variable and output as follows. Test them on different columns"
   ]
  },
  {
   "cell_type": "markdown",
   "id": "57a5ec58-23aa-4fe3-99a2-453b81bffb0b",
   "metadata": {},
   "source": [
    "#### a. For categorical variables, the output will be number of distinct categories with frequency, number of missing's, percentage of missing's"
   ]
  },
  {
   "cell_type": "code",
   "execution_count": 11,
   "id": "aff09b25-59b4-4127-8a32-f955d369201f",
   "metadata": {},
   "outputs": [
    {
     "data": {
      "text/plain": [
       "S_No                       int64\n",
       "Cust_id                   object\n",
       "Mobile Brand Purchased    object\n",
       "Location                  object\n",
       "Satisfaction Score         int64\n",
       "Mobile Cost                int64\n",
       "dtype: object"
      ]
     },
     "execution_count": 11,
     "metadata": {},
     "output_type": "execute_result"
    }
   ],
   "source": [
    "stats1.dtypes"
   ]
  },
  {
   "cell_type": "code",
   "execution_count": 17,
   "id": "e30bdfde-04c5-40d5-9390-2460aed8fe4c",
   "metadata": {},
   "outputs": [
    {
     "name": "stdout",
     "output_type": "stream",
     "text": [
      "Number of Distinct Categories: 4\n",
      "Category Frequencies:\n",
      "Location\n",
      "GGN    68\n",
      "CHE    68\n",
      "BLR    46\n",
      "HYD    18\n",
      "Name: count, dtype: int64\n",
      "Number of Missing Values: 0\n",
      "Percentage of Missing Values: 0.00%\n",
      "Number of Distinct Categories: 2\n",
      "Category Frequencies:\n",
      "Mobile Brand Purchased\n",
      "Samsung    100\n",
      "Apple      100\n",
      "Name: count, dtype: int64\n",
      "Number of Missing Values: 0\n",
      "Percentage of Missing Values: 0.00%\n"
     ]
    }
   ],
   "source": [
    "def categorical_variable_summary(column):\n",
    "    if column.dtype == 'object':\n",
    "        # Count distinct categories and their frequencies\n",
    "        category_counts = column.value_counts()\n",
    "        num_distinct_categories = category_counts.size\n",
    "        \n",
    "        # Count number of missing values\n",
    "        num_missing = column.isnull().sum()\n",
    "        \n",
    "        # Calculate percentage of missing values\n",
    "        total_values = len(column)\n",
    "        percent_missing = (num_missing / total_values) * 100\n",
    "        \n",
    "        # Print the summary\n",
    "        print(f\"Number of Distinct Categories: {num_distinct_categories}\")\n",
    "        print(\"Category Frequencies:\")\n",
    "        print(category_counts)\n",
    "        print(f\"Number of Missing Values: {num_missing}\")\n",
    "        print(f\"Percentage of Missing Values: {percent_missing:.2f}%\")\n",
    "    else:\n",
    "        print(\"The input column is not a categorical variable.\")\n",
    "        \n",
    "\n",
    "\n",
    "# Test the function on different columns\n",
    "categorical_variable_summary(stats1['Location'])\n",
    "categorical_variable_summary(stats1['Mobile Brand Purchased'])"
   ]
  },
  {
   "cell_type": "markdown",
   "id": "761c2f6f-4b19-431d-8eb1-6a4741d5d410",
   "metadata": {},
   "source": [
    "#### b. For numerical variables, the output will be number of missing's, percentage of missing's, minimum, maximum, sum, mean, median, variance, Coefficient of variation,  5th Percentile, 10th Percentile, 25th Percentile, 50th Percentile, 75th Percentile, 90th Percentile and 95th Percentile values"
   ]
  },
  {
   "cell_type": "code",
   "execution_count": 21,
   "id": "bd8e78ef-6255-4707-89ea-5d3e0a1a12a5",
   "metadata": {},
   "outputs": [
    {
     "name": "stdout",
     "output_type": "stream",
     "text": [
      "Number of missing values: 0\n",
      "Percentage of missing values: 0.00%\n",
      "Minimum value: 50000\n",
      "Maximum value: 90000\n",
      "Sum: 13922000\n",
      "Mean: 69610.0\n",
      "Median: 69500.0\n",
      "Variance: 130590854.27135679\n",
      "Coefficient of Variation: 16.42%\n",
      "5th Percentile: 51000.0\n",
      "10th Percentile: 54800.00000000001\n",
      "25th Percentile: 60000.0\n",
      "50th Percentile: 69500.0\n",
      "75th Percentile: 79250.0\n",
      "90th Percentile: 85000.0\n",
      "95th Percentile: 88000.0\n",
      "Number of missing values: 0\n",
      "Percentage of missing values: 0.00%\n",
      "Minimum value: 58\n",
      "Maximum value: 100\n",
      "Sum: 17271\n",
      "Mean: 86.355\n",
      "Median: 88.0\n",
      "Variance: 118.03917085427123\n",
      "Coefficient of Variation: 12.58%\n",
      "5th Percentile: 68.9\n",
      "10th Percentile: 70.9\n",
      "25th Percentile: 78.0\n",
      "50th Percentile: 88.0\n",
      "75th Percentile: 96.0\n",
      "90th Percentile: 100.0\n",
      "95th Percentile: 100.0\n"
     ]
    }
   ],
   "source": [
    "import pandas as pd\n",
    "import numpy as np\n",
    "\n",
    "def analyze_numerical_column(column):\n",
    "    # Check if the column is numerical\n",
    "    if pd.api.types.is_numeric_dtype(column):\n",
    "        # Number of missing values\n",
    "        num_missing = column.isnull().sum()\n",
    "        \n",
    "        # Percentage of missing values\n",
    "        perc_missing = (num_missing / len(column)) * 100\n",
    "        \n",
    "        # Minimum value\n",
    "        min_value = column.min()\n",
    "        \n",
    "        # Maximum value\n",
    "        max_value = column.max()\n",
    "        \n",
    "        # Sum\n",
    "        sum_value = column.sum()\n",
    "        \n",
    "        # Mean\n",
    "        mean_value = column.mean()\n",
    "        \n",
    "        # Median\n",
    "        median_value = column.median()\n",
    "        \n",
    "        # Variance\n",
    "        variance_value = column.var()\n",
    "        \n",
    "        # Coefficient of Variation\n",
    "        coeff_variation = (column.std() / mean_value) * 100\n",
    "        \n",
    "        # Percentiles\n",
    "        percentiles = column.quantile([0.05, 0.10, 0.25, 0.50, 0.75, 0.90, 0.95])\n",
    "        \n",
    "        # Output the results\n",
    "        print(f\"Number of missing values: {num_missing}\")\n",
    "        print(f\"Percentage of missing values: {perc_missing:.2f}%\")\n",
    "        print(f\"Minimum value: {min_value}\")\n",
    "        print(f\"Maximum value: {max_value}\")\n",
    "        print(f\"Sum: {sum_value}\")\n",
    "        print(f\"Mean: {mean_value}\")\n",
    "        print(f\"Median: {median_value}\")\n",
    "        print(f\"Variance: {variance_value}\")\n",
    "        print(f\"Coefficient of Variation: {coeff_variation:.2f}%\")\n",
    "        print(f\"5th Percentile: {percentiles.loc[0.05]}\")\n",
    "        print(f\"10th Percentile: {percentiles.loc[0.10]}\")\n",
    "        print(f\"25th Percentile: {percentiles.loc[0.25]}\")\n",
    "        print(f\"50th Percentile: {percentiles.loc[0.50]}\")\n",
    "        print(f\"75th Percentile: {percentiles.loc[0.75]}\")\n",
    "        print(f\"90th Percentile: {percentiles.loc[0.90]}\")\n",
    "        print(f\"95th Percentile: {percentiles.loc[0.95]}\")\n",
    "    else:\n",
    "        print(\"The provided column is not numerical.\")\n",
    "\n",
    "# Example usage:\n",
    "# Assuming `data` is your DataFrame and you want to analyze the 'Mobile Cost' column\n",
    "column = stats1['Mobile Cost']\n",
    "analyze_numerical_column(column)\n",
    "# Test on the 'Satisfaction Score' column\n",
    "analyze_numerical_column(stats1['Satisfaction Score'])\n"
   ]
  },
  {
   "cell_type": "markdown",
   "id": "b0873c7a-7f1c-48a2-9cc1-ce526bf3deb4",
   "metadata": {},
   "source": [
    "### Q. Perform Bi-Variate Analysis"
   ]
  },
  {
   "cell_type": "markdown",
   "id": "81994aa8-26ab-4c43-817c-bae5ca738b43",
   "metadata": {},
   "source": [
    "#### 1. Numerical vs. Categorical: Box Plot and T-test/ANOVA"
   ]
  },
  {
   "cell_type": "code",
   "execution_count": 24,
   "id": "4aa138fc-1411-4bdd-9416-0372f1e915be",
   "metadata": {},
   "outputs": [
    {
     "data": {
      "image/png": "[encoded data removed]",
      "text/plain": [
       "<Figure size 640x480 with 1 Axes>"
      ]
     },
     "metadata": {},
     "output_type": "display_data"
    },
    {
     "name": "stdout",
     "output_type": "stream",
     "text": [
      "ANOVA F-Statistic: 1.8078235781915044\n",
      "P-Value: 0.14704232267382497\n",
      "\n",
      "Fail to reject the null hypothesis: There are no significant differences in Satisfaction Scores between Locations.\n"
     ]
    }
   ],
   "source": [
    "import pandas as pd\n",
    "import seaborn as sns\n",
    "import matplotlib.pyplot as plt\n",
    "from scipy.stats import f_oneway\n",
    "\n",
    "# Box plot\n",
    "sns.boxplot(x='Location', y='Satisfaction Score', data=df)\n",
    "plt.title('Box Plot of Satisfaction Score by Location')\n",
    "plt.show()\n",
    "\n",
    "# Perform ANOVA\n",
    "grouped = df.groupby('Location')['Satisfaction Score'].apply(list)\n",
    "f_statistic, p_value = f_oneway(*grouped)\n",
    "\n",
    "print(f\"ANOVA F-Statistic: {f_statistic}\")\n",
    "print(f\"P-Value: {p_value}\")\n",
    "\n",
    "# Interpretation\n",
    "alpha = 0.05\n",
    "if p_value < alpha:\n",
    "    print(\"\\nReject the null hypothesis: There are significant differences in Satisfaction Scores between Locations.\")\n",
    "else:\n",
    "    print(\"\\nFail to reject the null hypothesis: There are no significant differences in Satisfaction Scores between Locations.\")\n"
   ]
  },
  {
   "cell_type": "markdown",
   "id": "4c982814-4037-4818-8bb2-474121127872",
   "metadata": {},
   "source": [
    "#### 2. Categorical vs. Categorical: Cross-Tabulation and Chi-Square Test"
   ]
  },
  {
   "cell_type": "code",
   "execution_count": 22,
   "id": "b7754ac9-bee1-499a-b69d-7d82533339b6",
   "metadata": {},
   "outputs": [
    {
     "name": "stdout",
     "output_type": "stream",
     "text": [
      "Mobile Brand Purchased  Apple  Samsung\n",
      "Location                              \n",
      "BLR                        24       22\n",
      "CHE                        34       34\n",
      "GGN                        32       36\n",
      "HYD                        10        8\n",
      "Chi-Square Statistic: 0.5444728616084115\n",
      "P-value: 0.9090177469316534\n",
      "There is no significant relationship between Location and Mobile Brand Purchased.\n"
     ]
    }
   ],
   "source": [
    "from scipy.stats import chi2_contingency\n",
    "\n",
    "# Cross-tabulation\n",
    "cross_tab = pd.crosstab(stats1['Location'], stats1['Mobile Brand Purchased'])\n",
    "print(cross_tab)\n",
    "\n",
    "# Chi-Square Test\n",
    "chi2, p, dof, expected = chi2_contingency(cross_tab)\n",
    "print(f\"Chi-Square Statistic: {chi2}\")\n",
    "print(f\"P-value: {p}\")\n",
    "\n",
    "# Interpretation\n",
    "if p < 0.05:\n",
    "    print(\"There is a significant relationship between Location and Mobile Brand Purchased.\")\n",
    "else:\n",
    "    print(\"There is no significant relationship between Location and Mobile Brand Purchased.\")\n"
   ]
  },
  {
   "cell_type": "markdown",
   "id": "679e5fcb-3c58-4030-bb16-bde7204b6e4f",
   "metadata": {},
   "source": [
    "#### 3. Numerical vs. Numerical: Correlation and Scatter Plot"
   ]
  },
  {
   "cell_type": "code",
   "execution_count": 24,
   "id": "3535eea1-92de-42e3-9618-439db13e8da9",
   "metadata": {},
   "outputs": [
    {
     "name": "stdout",
     "output_type": "stream",
     "text": [
      "Correlation between Mobile Cost and Satisfaction Score: -0.041215206079813105\n"
     ]
    },
    {
     "data": {
      "image/png": "[encoded data removed]",
      "text/plain": [
       "<Figure size 640x480 with 1 Axes>"
      ]
     },
     "metadata": {},
     "output_type": "display_data"
    }
   ],
   "source": [
    "import seaborn as sns\n",
    "import matplotlib.pyplot as plt\n",
    "\n",
    "# Correlation\n",
    "correlation = stats1['Mobile Cost'].corr(stats1['Satisfaction Score'])\n",
    "print(f\"Correlation between Mobile Cost and Satisfaction Score: {correlation}\")\n",
    "\n",
    "# Scatter Plot\n",
    "sns.scatterplot(x='Mobile Cost', y='Satisfaction Score', data=stats1)\n",
    "plt.title('Scatter Plot of Mobile Cost vs. Satisfaction Score')\n",
    "plt.show()\n"
   ]
  },
  {
   "cell_type": "code",
   "execution_count": null,
   "id": "efa4cd4f-bde1-4575-80cb-ef2befe22428",
   "metadata": {},
   "outputs": [],
   "source": []
  }
 ],
 "metadata": {
  "kernelspec": {
   "display_name": "Python 3 (ipykernel)",
   "language": "python",
   "name": "python3"
  },
  "language_info": {
   "codemirror_mode": {
    "name": "ipython",
    "version": 3
   },
   "file_extension": ".py",
   "mimetype": "text/x-python",
   "name": "python",
   "nbconvert_exporter": "python",
   "pygments_lexer": "ipython3",
   "version": "3.11.7"
  }
 },
 "nbformat": 4,
 "nbformat_minor": 5
}
